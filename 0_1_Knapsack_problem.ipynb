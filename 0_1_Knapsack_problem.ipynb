{
  "nbformat": 4,
  "nbformat_minor": 0,
  "metadata": {
    "colab": {
      "provenance": [],
      "authorship_tag": "ABX9TyO2JBwAPLaesyh6EEbnKw2/",
      "include_colab_link": true
    },
    "kernelspec": {
      "name": "python3",
      "display_name": "Python 3"
    },
    "language_info": {
      "name": "python"
    }
  },
  "cells": [
    {
      "cell_type": "markdown",
      "metadata": {
        "id": "view-in-github",
        "colab_type": "text"
      },
      "source": [
        "<a href=\"https://colab.research.google.com/github/Lanaanvar/Optimization_Technique/blob/main/0_1_Knapsack_problem.ipynb\" target=\"_parent\"><img src=\"https://colab.research.google.com/assets/colab-badge.svg\" alt=\"Open In Colab\"/></a>"
      ]
    },
    {
      "cell_type": "code",
      "execution_count": 1,
      "metadata": {
        "colab": {
          "base_uri": "https://localhost:8080/"
        },
        "id": "jrEzezTwevln",
        "outputId": "73c03c67-6d10-48b2-a7ff-a20dc2533e19"
      },
      "outputs": [
        {
          "output_type": "stream",
          "name": "stdout",
          "text": [
            "\n",
            "Enter the number of items: 3\n",
            "\n",
            "Enter the weights of items:\n",
            "20 25 10\n",
            "\n",
            "Enter the values of items:\n",
            "30 40 35\n",
            "\n",
            "Enter the knapsack capacity: 40\n",
            "\n",
            "Selected weights: 2 3 \n",
            "Dynamic Programming: The maximum value that can be obtained is: 75\n",
            "\n",
            "\n",
            "\n"
          ]
        }
      ],
      "source": [
        "def knapsack(W, weights, values, n):\n",
        "    dp = [[0] * (W + 1) for _ in range(n + 1)]\n",
        "\n",
        "    for i in range(1, n + 1):\n",
        "        for w in range(1, W + 1):\n",
        "            if weights[i - 1] > w:\n",
        "                dp[i][w] = dp[i - 1][w]\n",
        "            else:\n",
        "                dp[i][w] = max(dp[i - 1][w], values[i - 1] + dp[i - 1][w - weights[i - 1]])\n",
        "\n",
        "    selected_coins = []\n",
        "    selected_count = 0\n",
        "    i, j = n, W\n",
        "\n",
        "    while i > 0 and j > 0:\n",
        "        if dp[i][j] != dp[i - 1][j]:\n",
        "            selected_coins.append(i - 1)\n",
        "            j -= weights[i - 1]\n",
        "            i -= 1\n",
        "        else:\n",
        "            i -= 1\n",
        "\n",
        "    print(\"\\nSelected weights:\", end=\" \")\n",
        "    for k in reversed(selected_coins):\n",
        "        print(k + 1, end=\" \")\n",
        "\n",
        "    return dp[n][W]\n",
        "\n",
        "\n",
        "def main():\n",
        "    n = int(input(\"\\nEnter the number of items: \"))\n",
        "    weights = list(map(int, input(\"\\nEnter the weights of items:\\n\").split()))\n",
        "    values = list(map(int, input(\"\\nEnter the values of items:\\n\").split()))\n",
        "    W = int(input(\"\\nEnter the knapsack capacity: \"))\n",
        "\n",
        "    result_dp = knapsack(W, weights, values, n)\n",
        "\n",
        "    print(\"\\nDynamic Programming: The maximum value that can be obtained is:\", result_dp)\n",
        "    print(\"\\n\\n\")\n",
        "\n",
        "\n",
        "if __name__ == \"__main__\":\n",
        "    main()\n"
      ]
    }
  ]
}