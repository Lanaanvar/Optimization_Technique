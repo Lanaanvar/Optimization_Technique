{
  "nbformat": 4,
  "nbformat_minor": 0,
  "metadata": {
    "colab": {
      "provenance": [],
      "authorship_tag": "ABX9TyNQ3o2zOEA8Pq760Pw0Y4GI",
      "include_colab_link": true
    },
    "kernelspec": {
      "name": "python3",
      "display_name": "Python 3"
    },
    "language_info": {
      "name": "python"
    }
  },
  "cells": [
    {
      "cell_type": "markdown",
      "metadata": {
        "id": "view-in-github",
        "colab_type": "text"
      },
      "source": [
        "<a href=\"https://colab.research.google.com/github/Lanaanvar/Optimization_Technique/blob/main/TSP.ipynb\" target=\"_parent\"><img src=\"https://colab.research.google.com/assets/colab-badge.svg\" alt=\"Open In Colab\"/></a>"
      ]
    },
    {
      "cell_type": "code",
      "execution_count": 1,
      "metadata": {
        "colab": {
          "base_uri": "https://localhost:8080/"
        },
        "id": "RoHDTn_LgnOr",
        "outputId": "cc93a1d1-f9d3-4fbb-bc28-11e8e4e98ac2"
      },
      "outputs": [
        {
          "output_type": "stream",
          "name": "stdout",
          "text": [
            "Minimum Cost : 90\n"
          ]
        }
      ],
      "source": [
        "from itertools import permutations\n",
        "from sys import maxsize\n",
        "\n",
        "V = 4\n",
        "\n",
        "def travelling_salesman_problem(graph, n):\n",
        "\n",
        "\n",
        "    nodes = []\n",
        "\n",
        "    for i in range(V):\n",
        "        if i != n:\n",
        "            nodes.append(i)\n",
        "\n",
        "    minimumPath = maxsize\n",
        "\n",
        "\n",
        "    nextPermutation = permutations(nodes)\n",
        "\n",
        "\n",
        "    for i in nextPermutation:\n",
        "\n",
        "        currentPathWeight = 0\n",
        "        k = n\n",
        "\n",
        "        for j in i:\n",
        "            currentPathWeight += graph[k][j]\n",
        "            k = j\n",
        "        currentPathWeight += graph[k][n]\n",
        "\n",
        "\n",
        "        minimumPath = min(minimumPath, currentPathWeight)\n",
        "\n",
        "    return minimumPath\n",
        "\n",
        "if __name__ == \"__main__\":\n",
        "\n",
        "    graph = [\n",
        "        [ 0, 12, 18, 24 ],\n",
        "        [ 12, 0, 36, 28 ],\n",
        "        [ 18, 36, 0, 32 ],\n",
        "        [ 24, 28, 32, 0 ]\n",
        "    ]\n",
        "\n",
        "    n = 0\n",
        "\n",
        "    minimumPathWeight = travelling_salesman_problem(graph, n)\n",
        "    print(\"Minimum Cost :\", minimumPathWeight)"
      ]
    }
  ]
}