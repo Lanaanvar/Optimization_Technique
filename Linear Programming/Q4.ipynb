{
 "cells": [
  {
   "cell_type": "markdown",
   "metadata": {},
   "source": [
    "A farmer has a field of 60 acres in which he plants two crops, wheat and barley. The farmer has to plant at least 20 acres of wheat and at least 10 acres of barley. He has 1200 pounds of fertilizer and 600 pounds of insecticide available. Each acre of wheat requires 20 pounds of fertilizer and 10 pounds of insecticide, while each acre of barley requires 10 pounds of fertilizer and 15 pounds of insecticide. The profit from an acre of wheat is 200 dollars, and the profit from an acre of barley is 150 dollars. How many acres of each crop should the farmer plant to maximize his profit? What is the maximum profit? Implement using linear programming package\n"
   ]
  },
  {
   "cell_type": "code",
   "execution_count": 5,
   "metadata": {},
   "outputs": [],
   "source": [
    "import numpy as np\n",
    "from scipy.optimize import linprog"
   ]
  },
  {
   "cell_type": "code",
   "execution_count": 6,
   "metadata": {},
   "outputs": [
    {
     "name": "stdout",
     "output_type": "stream",
     "text": [
      "Optimal acres of wheat: 45.0\n",
      "Optimal number of barley: 10.0\n",
      "Maximum profit: 10500.0\n"
     ]
    }
   ],
   "source": [
    "c=np.array([-200,-150])\n",
    "A=np.array([[20,10],[10,15],[1,1]])\n",
    "b=np.array([1200,600,60])\n",
    "x_bounds=(20,None)\n",
    "y_bounds=(10,None)\n",
    "\n",
    "result=linprog(c, A, b, bounds=[x_bounds, y_bounds], method='highs')\n",
    "\n",
    "print(\"Optimal acres of wheat:\", result.x[0])\n",
    "print(\"Optimal number of barley:\", result.x[1])\n",
    "print(\"Maximum profit:\", -result.fun)"
   ]
  }
 ],
 "metadata": {
  "kernelspec": {
   "display_name": "Python 3",
   "language": "python",
   "name": "python3"
  },
  "language_info": {
   "codemirror_mode": {
    "name": "ipython",
    "version": 3
   },
   "file_extension": ".py",
   "mimetype": "text/x-python",
   "name": "python",
   "nbconvert_exporter": "python",
   "pygments_lexer": "ipython3",
   "version": "3.11.3"
  }
 },
 "nbformat": 4,
 "nbformat_minor": 2
}
