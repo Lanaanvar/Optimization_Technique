{
 "cells": [
  {
   "cell_type": "markdown",
   "metadata": {},
   "source": [
    "A bakery sells two types of cakes, chocolate and vanilla. The bakery has a daily budget of 500 dollars and can produce at most 400 cakes per day. Each chocolate cake costs 2 dollars to make and sells for 5 dollars, while each vanilla cake costs 1 dollar to make and sells for 3 dollars. The bakery also has to satisfy the demand of at least 100 chocolate cakes and at least 50 vanilla cakes per day. How many cakes of each type should the bakery make to maximize its revenue? What is the maximum revenue? Implement using linear programming package"
   ]
  },
  {
   "cell_type": "code",
   "execution_count": 2,
   "metadata": {},
   "outputs": [],
   "source": [
    "import numpy as np\n",
    "from scipy.optimize import linprog"
   ]
  },
  {
   "cell_type": "code",
   "execution_count": 4,
   "metadata": {},
   "outputs": [
    {
     "name": "stdout",
     "output_type": "stream",
     "text": [
      "Optimal number of chocolate cakes: 100.0\n",
      "Optimal number of vanilla cakes: 300.0\n",
      "Maximum profit: 1400.0\n"
     ]
    }
   ],
   "source": [
    "obj_co=np.array([-5,-3])\n",
    "constraint_co=np.array([[1,1],[2,1]])\n",
    "constraint_const=np.array([400,500])\n",
    "x_bound=(100,None)\n",
    "y_bound=(50,None)\n",
    "\n",
    "result=linprog(obj_co, constraint_co, constraint_const, bounds=[x_bound, y_bound], method='highs')\n",
    "\n",
    "print(\"Optimal number of chocolate cakes:\", result.x[0])\n",
    "print(\"Optimal number of vanilla cakes:\", result.x[1])\n",
    "print(\"Maximum profit:\", -result.fun)"
   ]
  }
 ],
 "metadata": {
  "kernelspec": {
   "display_name": "Python 3",
   "language": "python",
   "name": "python3"
  },
  "language_info": {
   "codemirror_mode": {
    "name": "ipython",
    "version": 3
   },
   "file_extension": ".py",
   "mimetype": "text/x-python",
   "name": "python",
   "nbconvert_exporter": "python",
   "pygments_lexer": "ipython3",
   "version": "3.11.3"
  }
 },
 "nbformat": 4,
 "nbformat_minor": 2
}
