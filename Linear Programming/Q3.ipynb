{
 "cells": [
  {
   "cell_type": "markdown",
   "metadata": {},
   "source": [
    "A furniture company produces chairs and tables from two resources, wood and metal. The company has 125 units of wood and 80 units of metal available. Each chair requires 1 unit of wood and 3 units of metal, while each table requires 5 units of wood and 1 unit of metal. The profit from selling a chair is 20 dollars, and the profit from selling a table is 30 dollars. How many chairs and tables should the company produce to maximize its profit? What is the maximum profit? Implement using linear programming package"
   ]
  },
  {
   "cell_type": "code",
   "execution_count": 8,
   "metadata": {},
   "outputs": [],
   "source": [
    "import numpy as np\n",
    "from scipy.optimize import linprog"
   ]
  },
  {
   "cell_type": "code",
   "execution_count": 9,
   "metadata": {},
   "outputs": [
    {
     "name": "stdout",
     "output_type": "stream",
     "text": [
      "Optimal number of chairs: 19.64285714285714\n",
      "Optimal number of tables: 21.071428571428573\n",
      "Maximum profit: 1025.0\n"
     ]
    }
   ],
   "source": [
    "c=np.array([-20,-30])\n",
    "A=np.array([[1,5],[3,1],])\n",
    "b=np.array([125,80])\n",
    "x_bounds=(0,None)\n",
    "y_bounds=(0,None)\n",
    "\n",
    "result=linprog(c, A, b, bounds=[x_bounds, y_bounds], method='highs')\n",
    "\n",
    "print(\"Optimal number of chairs:\", result.x[0])\n",
    "print(\"Optimal number of tables:\", result.x[1])\n",
    "print(\"Maximum profit:\", -result.fun)"
   ]
  }
 ],
 "metadata": {
  "kernelspec": {
   "display_name": "Python 3",
   "language": "python",
   "name": "python3"
  },
  "language_info": {
   "codemirror_mode": {
    "name": "ipython",
    "version": 3
   },
   "file_extension": ".py",
   "mimetype": "text/x-python",
   "name": "python",
   "nbconvert_exporter": "python",
   "pygments_lexer": "ipython3",
   "version": "3.11.3"
  }
 },
 "nbformat": 4,
 "nbformat_minor": 2
}
